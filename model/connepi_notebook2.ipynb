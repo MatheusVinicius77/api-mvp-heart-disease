{
  "cells": [
    {
      "cell_type": "code",
      "execution_count": 1,
      "metadata": {
        "colab": {
          "base_uri": "https://localhost:8080/"
        },
        "id": "uQPgfFhNf2z6",
        "outputId": "db037a88-0beb-41b6-8c93-e3066ba6e4bc"
      },
      "outputs": [
        {
          "name": "stdout",
          "output_type": "stream",
          "text": [
            "Requirement already satisfied: catboost in /home/matheusvinicius/Documentos/Programação/IFPE/IA/connepi/heart_disease_project/venv/lib/python3.11/site-packages (1.2.5)\n",
            "Requirement already satisfied: scikit-learn in /home/matheusvinicius/Documentos/Programação/IFPE/IA/connepi/heart_disease_project/venv/lib/python3.11/site-packages (1.4.2)\n",
            "Requirement already satisfied: pandas in /home/matheusvinicius/Documentos/Programação/IFPE/IA/connepi/heart_disease_project/venv/lib/python3.11/site-packages (2.2.2)\n",
            "Requirement already satisfied: numpy in /home/matheusvinicius/Documentos/Programação/IFPE/IA/connepi/heart_disease_project/venv/lib/python3.11/site-packages (1.26.4)\n",
            "Requirement already satisfied: graphviz in /home/matheusvinicius/Documentos/Programação/IFPE/IA/connepi/heart_disease_project/venv/lib/python3.11/site-packages (from catboost) (0.20.3)\n",
            "Requirement already satisfied: matplotlib in /home/matheusvinicius/Documentos/Programação/IFPE/IA/connepi/heart_disease_project/venv/lib/python3.11/site-packages (from catboost) (3.8.4)\n",
            "Requirement already satisfied: scipy in /home/matheusvinicius/Documentos/Programação/IFPE/IA/connepi/heart_disease_project/venv/lib/python3.11/site-packages (from catboost) (1.11.4)\n",
            "Requirement already satisfied: plotly in /home/matheusvinicius/Documentos/Programação/IFPE/IA/connepi/heart_disease_project/venv/lib/python3.11/site-packages (from catboost) (5.22.0)\n",
            "Requirement already satisfied: six in /home/matheusvinicius/Documentos/Programação/IFPE/IA/connepi/heart_disease_project/venv/lib/python3.11/site-packages (from catboost) (1.16.0)\n",
            "Requirement already satisfied: joblib>=1.2.0 in /home/matheusvinicius/Documentos/Programação/IFPE/IA/connepi/heart_disease_project/venv/lib/python3.11/site-packages (from scikit-learn) (1.4.2)\n",
            "Requirement already satisfied: threadpoolctl>=2.0.0 in /home/matheusvinicius/Documentos/Programação/IFPE/IA/connepi/heart_disease_project/venv/lib/python3.11/site-packages (from scikit-learn) (3.5.0)\n",
            "Requirement already satisfied: python-dateutil>=2.8.2 in /home/matheusvinicius/Documentos/Programação/IFPE/IA/connepi/heart_disease_project/venv/lib/python3.11/site-packages (from pandas) (2.9.0.post0)\n",
            "Requirement already satisfied: pytz>=2020.1 in /home/matheusvinicius/Documentos/Programação/IFPE/IA/connepi/heart_disease_project/venv/lib/python3.11/site-packages (from pandas) (2024.1)\n",
            "Requirement already satisfied: tzdata>=2022.7 in /home/matheusvinicius/Documentos/Programação/IFPE/IA/connepi/heart_disease_project/venv/lib/python3.11/site-packages (from pandas) (2024.1)\n",
            "Requirement already satisfied: contourpy>=1.0.1 in /home/matheusvinicius/Documentos/Programação/IFPE/IA/connepi/heart_disease_project/venv/lib/python3.11/site-packages (from matplotlib->catboost) (1.2.1)\n",
            "Requirement already satisfied: cycler>=0.10 in /home/matheusvinicius/Documentos/Programação/IFPE/IA/connepi/heart_disease_project/venv/lib/python3.11/site-packages (from matplotlib->catboost) (0.12.1)\n",
            "Requirement already satisfied: fonttools>=4.22.0 in /home/matheusvinicius/Documentos/Programação/IFPE/IA/connepi/heart_disease_project/venv/lib/python3.11/site-packages (from matplotlib->catboost) (4.51.0)\n",
            "Requirement already satisfied: kiwisolver>=1.3.1 in /home/matheusvinicius/Documentos/Programação/IFPE/IA/connepi/heart_disease_project/venv/lib/python3.11/site-packages (from matplotlib->catboost) (1.4.5)\n",
            "Requirement already satisfied: packaging>=20.0 in /home/matheusvinicius/Documentos/Programação/IFPE/IA/connepi/heart_disease_project/venv/lib/python3.11/site-packages (from matplotlib->catboost) (24.0)\n",
            "Requirement already satisfied: pillow>=8 in /home/matheusvinicius/Documentos/Programação/IFPE/IA/connepi/heart_disease_project/venv/lib/python3.11/site-packages (from matplotlib->catboost) (10.3.0)\n",
            "Requirement already satisfied: pyparsing>=2.3.1 in /home/matheusvinicius/Documentos/Programação/IFPE/IA/connepi/heart_disease_project/venv/lib/python3.11/site-packages (from matplotlib->catboost) (3.1.2)\n",
            "Requirement already satisfied: tenacity>=6.2.0 in /home/matheusvinicius/Documentos/Programação/IFPE/IA/connepi/heart_disease_project/venv/lib/python3.11/site-packages (from plotly->catboost) (8.2.3)\n",
            "\n",
            "\u001b[1m[\u001b[0m\u001b[34;49mnotice\u001b[0m\u001b[1;39;49m]\u001b[0m\u001b[39;49m A new release of pip is available: \u001b[0m\u001b[31;49m23.2.1\u001b[0m\u001b[39;49m -> \u001b[0m\u001b[32;49m24.0\u001b[0m\n",
            "\u001b[1m[\u001b[0m\u001b[34;49mnotice\u001b[0m\u001b[1;39;49m]\u001b[0m\u001b[39;49m To update, run: \u001b[0m\u001b[32;49mpip install --upgrade pip\u001b[0m\n",
            "Note: you may need to restart the kernel to use updated packages.\n"
          ]
        }
      ],
      "source": [
        "%pip install catboost scikit-learn pandas numpy"
      ]
    },
    {
      "cell_type": "code",
      "execution_count": 2,
      "metadata": {
        "id": "7QWsvn60HdFS"
      },
      "outputs": [],
      "source": [
        "# IMPORTANDO BIBLIOTECAS\n",
        "\n",
        "# MANEJAR DADOS\n",
        "import pandas as pd\n",
        "import numpy as np\n",
        "\n",
        "# 2. PLOTAR DADOS\n",
        "import matplotlib.pyplot as plt\n",
        "\n",
        "\n",
        "# 3. PREPROCESSAMENTO DOS DADOS\n",
        "from sklearn.preprocessing import MinMaxScaler, LabelEncoder\n",
        "\n",
        "\n",
        "# 5. Bibliotecas para separamento de cojuntos de dados\n",
        "from sklearn.model_selection import train_test_split,cross_val_predict,GridSearchCV, cross_val_score,KFold,StratifiedKFold\n",
        "from imblearn.over_sampling import SMOTE\n",
        "\n",
        "# 6. Algoritmos de classificação\n",
        "from sklearn.linear_model import LogisticRegression\n",
        "from sklearn.neighbors import KNeighborsClassifier\n",
        "from sklearn.svm import SVC\n",
        "from sklearn.tree import DecisionTreeClassifier\n",
        "from sklearn.ensemble import RandomForestClassifier, AdaBoostClassifier,GradientBoostingClassifier,ExtraTreesClassifier,RandomForestRegressor, VotingClassifier\n",
        "from xgboost import XGBClassifier\n",
        "from catboost import CatBoostClassifier\n",
        "from sklearn.naive_bayes import GaussianNB\n",
        "\n",
        "#importing pipeline\n",
        "from sklearn.pipeline import Pipeline\n",
        "\n",
        "import pickle\n",
        "\n",
        "# 7. Métricas\n",
        "from sklearn.metrics import accuracy_score, classification_report,precision_score, recall_score, f1_score , mean_absolute_error, mean_squared_error\n",
        "\n",
        "# 8. Ignore warnings\n",
        "import warnings\n",
        "warnings.filterwarnings(\"ignore\")"
      ]
    },
    {
      "cell_type": "markdown",
      "metadata": {
        "id": "C47aPdggjzN8"
      },
      "source": [
        "# EDA"
      ]
    },
    {
      "cell_type": "code",
      "execution_count": 3,
      "metadata": {
        "colab": {
          "base_uri": "https://localhost:8080/",
          "height": 206
        },
        "id": "UMf2VSE8HN1O",
        "outputId": "49fc8e49-ea26-4e58-f3f6-751b8b20a042"
      },
      "outputs": [
        {
          "data": {
            "text/html": [
              "<div>\n",
              "<style scoped>\n",
              "    .dataframe tbody tr th:only-of-type {\n",
              "        vertical-align: middle;\n",
              "    }\n",
              "\n",
              "    .dataframe tbody tr th {\n",
              "        vertical-align: top;\n",
              "    }\n",
              "\n",
              "    .dataframe thead th {\n",
              "        text-align: right;\n",
              "    }\n",
              "</style>\n",
              "<table border=\"1\" class=\"dataframe\">\n",
              "  <thead>\n",
              "    <tr style=\"text-align: right;\">\n",
              "      <th></th>\n",
              "      <th>age</th>\n",
              "      <th>sex</th>\n",
              "      <th>cp</th>\n",
              "      <th>trestbps</th>\n",
              "      <th>chol</th>\n",
              "      <th>fbs</th>\n",
              "      <th>restecg</th>\n",
              "      <th>thalach</th>\n",
              "      <th>exang</th>\n",
              "      <th>oldpeak</th>\n",
              "      <th>slope</th>\n",
              "      <th>ca</th>\n",
              "      <th>thal</th>\n",
              "      <th>target</th>\n",
              "    </tr>\n",
              "  </thead>\n",
              "  <tbody>\n",
              "    <tr>\n",
              "      <th>0</th>\n",
              "      <td>63</td>\n",
              "      <td>1</td>\n",
              "      <td>0</td>\n",
              "      <td>145</td>\n",
              "      <td>233</td>\n",
              "      <td>1</td>\n",
              "      <td>2</td>\n",
              "      <td>150</td>\n",
              "      <td>0</td>\n",
              "      <td>2.3</td>\n",
              "      <td>2</td>\n",
              "      <td>0</td>\n",
              "      <td>2</td>\n",
              "      <td>0</td>\n",
              "    </tr>\n",
              "    <tr>\n",
              "      <th>1</th>\n",
              "      <td>67</td>\n",
              "      <td>1</td>\n",
              "      <td>3</td>\n",
              "      <td>160</td>\n",
              "      <td>286</td>\n",
              "      <td>0</td>\n",
              "      <td>2</td>\n",
              "      <td>108</td>\n",
              "      <td>1</td>\n",
              "      <td>1.5</td>\n",
              "      <td>1</td>\n",
              "      <td>3</td>\n",
              "      <td>1</td>\n",
              "      <td>1</td>\n",
              "    </tr>\n",
              "    <tr>\n",
              "      <th>2</th>\n",
              "      <td>67</td>\n",
              "      <td>1</td>\n",
              "      <td>3</td>\n",
              "      <td>120</td>\n",
              "      <td>229</td>\n",
              "      <td>0</td>\n",
              "      <td>2</td>\n",
              "      <td>129</td>\n",
              "      <td>1</td>\n",
              "      <td>2.6</td>\n",
              "      <td>1</td>\n",
              "      <td>2</td>\n",
              "      <td>3</td>\n",
              "      <td>1</td>\n",
              "    </tr>\n",
              "    <tr>\n",
              "      <th>3</th>\n",
              "      <td>37</td>\n",
              "      <td>1</td>\n",
              "      <td>2</td>\n",
              "      <td>130</td>\n",
              "      <td>250</td>\n",
              "      <td>0</td>\n",
              "      <td>0</td>\n",
              "      <td>187</td>\n",
              "      <td>0</td>\n",
              "      <td>3.5</td>\n",
              "      <td>2</td>\n",
              "      <td>0</td>\n",
              "      <td>1</td>\n",
              "      <td>0</td>\n",
              "    </tr>\n",
              "    <tr>\n",
              "      <th>4</th>\n",
              "      <td>41</td>\n",
              "      <td>0</td>\n",
              "      <td>1</td>\n",
              "      <td>130</td>\n",
              "      <td>204</td>\n",
              "      <td>0</td>\n",
              "      <td>2</td>\n",
              "      <td>172</td>\n",
              "      <td>0</td>\n",
              "      <td>1.4</td>\n",
              "      <td>0</td>\n",
              "      <td>0</td>\n",
              "      <td>1</td>\n",
              "      <td>0</td>\n",
              "    </tr>\n",
              "  </tbody>\n",
              "</table>\n",
              "</div>"
            ],
            "text/plain": [
              "   age  sex  cp  trestbps  chol  fbs  restecg  thalach  exang  oldpeak  slope  \\\n",
              "0   63    1   0       145   233    1        2      150      0      2.3      2   \n",
              "1   67    1   3       160   286    0        2      108      1      1.5      1   \n",
              "2   67    1   3       120   229    0        2      129      1      2.6      1   \n",
              "3   37    1   2       130   250    0        0      187      0      3.5      2   \n",
              "4   41    0   1       130   204    0        2      172      0      1.4      0   \n",
              "\n",
              "   ca  thal  target  \n",
              "0   0     2       0  \n",
              "1   3     1       1  \n",
              "2   2     3       1  \n",
              "3   0     1       0  \n",
              "4   0     1       0  "
            ]
          },
          "execution_count": 3,
          "metadata": {},
          "output_type": "execute_result"
        }
      ],
      "source": [
        "df = pd.read_csv(\"./Heart_disease_cleveland_new.csv\")\n",
        "df.head()"
      ]
    },
    {
      "cell_type": "code",
      "execution_count": 4,
      "metadata": {},
      "outputs": [
        {
          "name": "stdout",
          "output_type": "stream",
          "text": [
            "<class 'pandas.core.frame.DataFrame'>\n",
            "RangeIndex: 303 entries, 0 to 302\n",
            "Data columns (total 14 columns):\n",
            " #   Column    Non-Null Count  Dtype  \n",
            "---  ------    --------------  -----  \n",
            " 0   age       303 non-null    int64  \n",
            " 1   sex       303 non-null    int64  \n",
            " 2   cp        303 non-null    int64  \n",
            " 3   trestbps  303 non-null    int64  \n",
            " 4   chol      303 non-null    int64  \n",
            " 5   fbs       303 non-null    int64  \n",
            " 6   restecg   303 non-null    int64  \n",
            " 7   thalach   303 non-null    int64  \n",
            " 8   exang     303 non-null    int64  \n",
            " 9   oldpeak   303 non-null    float64\n",
            " 10  slope     303 non-null    int64  \n",
            " 11  ca        303 non-null    int64  \n",
            " 12  thal      303 non-null    int64  \n",
            " 13  target    303 non-null    int64  \n",
            "dtypes: float64(1), int64(13)\n",
            "memory usage: 33.3 KB\n"
          ]
        }
      ],
      "source": [
        "df.info()"
      ]
    },
    {
      "cell_type": "code",
      "execution_count": 5,
      "metadata": {
        "id": "32zV5T15LxjH"
      },
      "outputs": [],
      "source": [
        "X= df.drop(['target'], axis=1)\n",
        "y = df['target']"
      ]
    },
    {
      "cell_type": "code",
      "execution_count": 6,
      "metadata": {
        "id": "u1SKkbJwtX_c"
      },
      "outputs": [],
      "source": [
        "categorical_columns = ['thal', 'ca', 'slope', 'exang', 'restecg', 'cp', 'sex']"
      ]
    },
    {
      "cell_type": "code",
      "execution_count": 7,
      "metadata": {
        "id": "u3L8t8BktTu6"
      },
      "outputs": [],
      "source": [
        "X_encoded = X.copy()\n",
        "label_encoders = {}\n",
        "for col in categorical_columns:\n",
        "    label_encoders[col] = LabelEncoder()\n",
        "    X_encoded[col] = label_encoders[col].fit_transform(X[col])\n",
        "\n"
      ]
    },
    {
      "cell_type": "code",
      "execution_count": 8,
      "metadata": {
        "id": "RtaL189bpkDA"
      },
      "outputs": [],
      "source": [
        "smote = SMOTE()\n",
        "X_smote, y_smote = smote.fit_resample(X_encoded, y,)"
      ]
    },
    {
      "cell_type": "markdown",
      "metadata": {
        "id": "U266J5ZIeiJn"
      },
      "source": [
        "# Ensemble Learning"
      ]
    },
    {
      "cell_type": "code",
      "execution_count": 11,
      "metadata": {
        "colab": {
          "base_uri": "https://localhost:8080/",
          "height": 524
        },
        "id": "ulBkzd5gTxW7",
        "outputId": "3f7e4fa7-2981-449b-ba3c-ff37b0d36e85"
      },
      "outputs": [
        {
          "name": "stdout",
          "output_type": "stream",
          "text": [
            "0.967741935483871\n"
          ]
        }
      ],
      "source": [
        "\n",
        "params_rf = {\"criterion\": \"gini\", \"max_depth\": 8, \"max_features\": \"auto\", \"n_estimators\": 200}\n",
        "params_rf = {}\n",
        "params_catboost = {'n_estimators': 300, 'learning_rate': 0.001, 'random_state': 42, 'verbose': 0, 'depth': 4, 'loss_function': 'Logloss', 'class_weights': [1, 1.15]}\n",
        "params_ab = {'n_estimators': 250,  'learning_rate': 0.6, 'random_state':42}\n",
        "params_nb = {'var_smoothing': 1e-09}\n",
        "params_xgb={'reg_lambda': 2, 'reg_alpha': 0.1, 'n_estimators': 300, 'n_estimator': 200, 'min_child_weight': 1, 'max_depth': 7, 'learning_rate': 0.01, 'gamma': 0, 'eval_metric': 'logloss', 'colsample_bytree': 0.6}\n",
        "logistic_rg_params = {'solver': 'liblinear', 'penalty': 'l2', 'max_iter': 100, 'C': 10}\n",
        "params_gb = {'n_estimators': 200, 'min_samples_split': 5, 'max_depth': 5, 'learning_rate': 0.2}\n",
        "\n",
        "kf = StratifiedKFold(n_splits=10, shuffle=True, random_state=42)\n",
        "rf_model = RandomForestClassifier(**params_rf)\n",
        "catboost_model = CatBoostClassifier(**params_catboost)\n",
        "xgb_model = XGBClassifier(**params_xgb)\n",
        "nb_model = GaussianNB(**params_nb)\n",
        "ab_model = AdaBoostClassifier(**params_ab)\n",
        "lg_model = LogisticRegression(**logistic_rg_params)\n",
        "gb_model = GradientBoostingClassifier(**params_gb)\n",
        "\n",
        "# ensemble_weights =  [1, 2, 1, 1, 2, 1]\n",
        "# ensemble_weights = [1, 4, 1, 1, 2, 1]\n",
        "ensemble_weights = [1, 7, 1, 1, 2, 1]\n",
        "TEST_SIZE = 0.1\n",
        "ensemble = VotingClassifier(estimators=[\n",
        "    ('lg', lg_model),\n",
        "    ('xgb', xgb_model),\n",
        "    ('rf', rf_model),\n",
        "    ('catboost', catboost_model),\n",
        "    ('ab', ab_model),\n",
        "    ('nb', nb_model)\n",
        "    ], voting='hard', weights=ensemble_weights)\n",
        "\n",
        "X_train, X_test, y_train, y_test = train_test_split(X_encoded.values, y, test_size=TEST_SIZE, random_state=42)\n",
        "smote = SMOTE(random_state=42)\n",
        "X_train_resampled, y_train_resampled = smote.fit_resample(X_train, y_train)\n",
        "ensemble.fit(X_train_resampled, y_train_resampled)\n",
        "\n",
        "y_pred = ensemble.predict(X_test)\n",
        "# Avaliar as métricas\n",
        "accuracy = (accuracy_score(y_test, y_pred))\n",
        "print(accuracy)"
      ]
    },
    {
      "cell_type": "code",
      "execution_count": null,
      "metadata": {},
      "outputs": [],
      "source": [
        "\n",
        "with open('trained_model-0.1.0.pkl', 'wb') as f:\n",
        "    pickle.dump(ensemble, f)\n"
      ]
    }
  ],
  "metadata": {
    "colab": {
      "authorship_tag": "ABX9TyMRV4CRIV7FLoyACdvcVoAC",
      "collapsed_sections": [
        "B5t9tcCcLOV2",
        "5sHB9ENFhHOf",
        "_urVZGo5jv5G"
      ],
      "mount_file_id": "1ryZCNAhkz2NpR1E3Jve-SmKESHeMPYdv",
      "provenance": []
    },
    "kernelspec": {
      "display_name": "Python 3",
      "name": "python3"
    },
    "language_info": {
      "codemirror_mode": {
        "name": "ipython",
        "version": 3
      },
      "file_extension": ".py",
      "mimetype": "text/x-python",
      "name": "python",
      "nbconvert_exporter": "python",
      "pygments_lexer": "ipython3",
      "version": "3.11.7"
    }
  },
  "nbformat": 4,
  "nbformat_minor": 0
}

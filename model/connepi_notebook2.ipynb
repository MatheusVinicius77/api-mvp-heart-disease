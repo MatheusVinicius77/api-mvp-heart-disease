{
  "cells": [
    {
      "cell_type": "code",
      "execution_count": 16,
      "metadata": {
        "colab": {
          "base_uri": "https://localhost:8080/"
        },
        "id": "uQPgfFhNf2z6",
        "outputId": "db037a88-0beb-41b6-8c93-e3066ba6e4bc"
      },
      "outputs": [
        {
          "name": "stdout",
          "output_type": "stream",
          "text": [
            "Requirement already satisfied: catboost in /home/matheusvinicius/Documentos/Programação/IFPE/IA/connepi/heart_disease_project/venv/lib/python3.11/site-packages (1.2.5)\n",
            "Requirement already satisfied: scikit-optimize in /home/matheusvinicius/Documentos/Programação/IFPE/IA/connepi/heart_disease_project/venv/lib/python3.11/site-packages (0.10.1)\n",
            "Requirement already satisfied: ydata-profiling in /home/matheusvinicius/Documentos/Programação/IFPE/IA/connepi/heart_disease_project/venv/lib/python3.11/site-packages (4.7.0)\n",
            "Requirement already satisfied: scikit-learn in /home/matheusvinicius/Documentos/Programação/IFPE/IA/connepi/heart_disease_project/venv/lib/python3.11/site-packages (1.4.2)\n",
            "Requirement already satisfied: pandas in /home/matheusvinicius/Documentos/Programação/IFPE/IA/connepi/heart_disease_project/venv/lib/python3.11/site-packages (2.2.2)\n",
            "Requirement already satisfied: numpy in /home/matheusvinicius/Documentos/Programação/IFPE/IA/connepi/heart_disease_project/venv/lib/python3.11/site-packages (1.26.4)\n",
            "Requirement already satisfied: matplotlib in /home/matheusvinicius/Documentos/Programação/IFPE/IA/connepi/heart_disease_project/venv/lib/python3.11/site-packages (3.8.4)\n",
            "Requirement already satisfied: yellowbrick in /home/matheusvinicius/Documentos/Programação/IFPE/IA/connepi/heart_disease_project/venv/lib/python3.11/site-packages (1.5)\n",
            "Requirement already satisfied: graphviz in /home/matheusvinicius/Documentos/Programação/IFPE/IA/connepi/heart_disease_project/venv/lib/python3.11/site-packages (from catboost) (0.20.3)\n",
            "Requirement already satisfied: scipy in /home/matheusvinicius/Documentos/Programação/IFPE/IA/connepi/heart_disease_project/venv/lib/python3.11/site-packages (from catboost) (1.11.4)\n",
            "Requirement already satisfied: plotly in /home/matheusvinicius/Documentos/Programação/IFPE/IA/connepi/heart_disease_project/venv/lib/python3.11/site-packages (from catboost) (5.22.0)\n",
            "Requirement already satisfied: six in /home/matheusvinicius/Documentos/Programação/IFPE/IA/connepi/heart_disease_project/venv/lib/python3.11/site-packages (from catboost) (1.16.0)\n",
            "Requirement already satisfied: joblib>=0.11 in /home/matheusvinicius/Documentos/Programação/IFPE/IA/connepi/heart_disease_project/venv/lib/python3.11/site-packages (from scikit-optimize) (1.4.2)\n",
            "Requirement already satisfied: pyaml>=16.9 in /home/matheusvinicius/Documentos/Programação/IFPE/IA/connepi/heart_disease_project/venv/lib/python3.11/site-packages (from scikit-optimize) (24.4.0)\n",
            "Requirement already satisfied: packaging>=21.3 in /home/matheusvinicius/Documentos/Programação/IFPE/IA/connepi/heart_disease_project/venv/lib/python3.11/site-packages (from scikit-optimize) (24.0)\n",
            "Requirement already satisfied: pydantic>=2 in /home/matheusvinicius/Documentos/Programação/IFPE/IA/connepi/heart_disease_project/venv/lib/python3.11/site-packages (from ydata-profiling) (2.7.1)\n",
            "Requirement already satisfied: PyYAML<6.1,>=5.0.0 in /home/matheusvinicius/Documentos/Programação/IFPE/IA/connepi/heart_disease_project/venv/lib/python3.11/site-packages (from ydata-profiling) (6.0.1)\n",
            "Requirement already satisfied: jinja2<3.2,>=2.11.1 in /home/matheusvinicius/Documentos/Programação/IFPE/IA/connepi/heart_disease_project/venv/lib/python3.11/site-packages (from ydata-profiling) (3.1.3)\n",
            "Requirement already satisfied: visions[type_image_path]<0.7.7,>=0.7.5 in /home/matheusvinicius/Documentos/Programação/IFPE/IA/connepi/heart_disease_project/venv/lib/python3.11/site-packages (from ydata-profiling) (0.7.6)\n",
            "Requirement already satisfied: htmlmin==0.1.12 in /home/matheusvinicius/Documentos/Programação/IFPE/IA/connepi/heart_disease_project/venv/lib/python3.11/site-packages (from ydata-profiling) (0.1.12)\n",
            "Requirement already satisfied: phik<0.13,>=0.11.1 in /home/matheusvinicius/Documentos/Programação/IFPE/IA/connepi/heart_disease_project/venv/lib/python3.11/site-packages (from ydata-profiling) (0.12.4)\n",
            "Requirement already satisfied: requests<3,>=2.24.0 in /home/matheusvinicius/Documentos/Programação/IFPE/IA/connepi/heart_disease_project/venv/lib/python3.11/site-packages (from ydata-profiling) (2.31.0)\n",
            "Requirement already satisfied: tqdm<5,>=4.48.2 in /home/matheusvinicius/Documentos/Programação/IFPE/IA/connepi/heart_disease_project/venv/lib/python3.11/site-packages (from ydata-profiling) (4.66.4)\n",
            "Requirement already satisfied: seaborn<0.13,>=0.10.1 in /home/matheusvinicius/Documentos/Programação/IFPE/IA/connepi/heart_disease_project/venv/lib/python3.11/site-packages (from ydata-profiling) (0.12.2)\n",
            "Requirement already satisfied: multimethod<2,>=1.4 in /home/matheusvinicius/Documentos/Programação/IFPE/IA/connepi/heart_disease_project/venv/lib/python3.11/site-packages (from ydata-profiling) (1.11.2)\n",
            "Requirement already satisfied: statsmodels<1,>=0.13.2 in /home/matheusvinicius/Documentos/Programação/IFPE/IA/connepi/heart_disease_project/venv/lib/python3.11/site-packages (from ydata-profiling) (0.14.2)\n",
            "Requirement already satisfied: typeguard<5,>=4.1.2 in /home/matheusvinicius/Documentos/Programação/IFPE/IA/connepi/heart_disease_project/venv/lib/python3.11/site-packages (from ydata-profiling) (4.2.1)\n",
            "Requirement already satisfied: imagehash==4.3.1 in /home/matheusvinicius/Documentos/Programação/IFPE/IA/connepi/heart_disease_project/venv/lib/python3.11/site-packages (from ydata-profiling) (4.3.1)\n",
            "Requirement already satisfied: wordcloud>=1.9.1 in /home/matheusvinicius/Documentos/Programação/IFPE/IA/connepi/heart_disease_project/venv/lib/python3.11/site-packages (from ydata-profiling) (1.9.3)\n",
            "Requirement already satisfied: dacite>=1.8 in /home/matheusvinicius/Documentos/Programação/IFPE/IA/connepi/heart_disease_project/venv/lib/python3.11/site-packages (from ydata-profiling) (1.8.1)\n",
            "Requirement already satisfied: numba<1,>=0.56.0 in /home/matheusvinicius/Documentos/Programação/IFPE/IA/connepi/heart_disease_project/venv/lib/python3.11/site-packages (from ydata-profiling) (0.59.1)\n",
            "Requirement already satisfied: PyWavelets in /home/matheusvinicius/Documentos/Programação/IFPE/IA/connepi/heart_disease_project/venv/lib/python3.11/site-packages (from imagehash==4.3.1->ydata-profiling) (1.6.0)\n",
            "Requirement already satisfied: pillow in /home/matheusvinicius/Documentos/Programação/IFPE/IA/connepi/heart_disease_project/venv/lib/python3.11/site-packages (from imagehash==4.3.1->ydata-profiling) (10.3.0)\n",
            "Requirement already satisfied: threadpoolctl>=2.0.0 in /home/matheusvinicius/Documentos/Programação/IFPE/IA/connepi/heart_disease_project/venv/lib/python3.11/site-packages (from scikit-learn) (3.5.0)\n",
            "Requirement already satisfied: python-dateutil>=2.8.2 in /home/matheusvinicius/Documentos/Programação/IFPE/IA/connepi/heart_disease_project/venv/lib/python3.11/site-packages (from pandas) (2.9.0.post0)\n",
            "Requirement already satisfied: pytz>=2020.1 in /home/matheusvinicius/Documentos/Programação/IFPE/IA/connepi/heart_disease_project/venv/lib/python3.11/site-packages (from pandas) (2024.1)\n",
            "Requirement already satisfied: tzdata>=2022.7 in /home/matheusvinicius/Documentos/Programação/IFPE/IA/connepi/heart_disease_project/venv/lib/python3.11/site-packages (from pandas) (2024.1)\n",
            "Requirement already satisfied: contourpy>=1.0.1 in /home/matheusvinicius/Documentos/Programação/IFPE/IA/connepi/heart_disease_project/venv/lib/python3.11/site-packages (from matplotlib) (1.2.1)\n",
            "Requirement already satisfied: cycler>=0.10 in /home/matheusvinicius/Documentos/Programação/IFPE/IA/connepi/heart_disease_project/venv/lib/python3.11/site-packages (from matplotlib) (0.12.1)\n",
            "Requirement already satisfied: fonttools>=4.22.0 in /home/matheusvinicius/Documentos/Programação/IFPE/IA/connepi/heart_disease_project/venv/lib/python3.11/site-packages (from matplotlib) (4.51.0)\n",
            "Requirement already satisfied: kiwisolver>=1.3.1 in /home/matheusvinicius/Documentos/Programação/IFPE/IA/connepi/heart_disease_project/venv/lib/python3.11/site-packages (from matplotlib) (1.4.5)\n",
            "Requirement already satisfied: pyparsing>=2.3.1 in /home/matheusvinicius/Documentos/Programação/IFPE/IA/connepi/heart_disease_project/venv/lib/python3.11/site-packages (from matplotlib) (3.1.2)\n",
            "Requirement already satisfied: MarkupSafe>=2.0 in /home/matheusvinicius/Documentos/Programação/IFPE/IA/connepi/heart_disease_project/venv/lib/python3.11/site-packages (from jinja2<3.2,>=2.11.1->ydata-profiling) (2.1.5)\n",
            "Requirement already satisfied: llvmlite<0.43,>=0.42.0dev0 in /home/matheusvinicius/Documentos/Programação/IFPE/IA/connepi/heart_disease_project/venv/lib/python3.11/site-packages (from numba<1,>=0.56.0->ydata-profiling) (0.42.0)\n",
            "Requirement already satisfied: annotated-types>=0.4.0 in /home/matheusvinicius/Documentos/Programação/IFPE/IA/connepi/heart_disease_project/venv/lib/python3.11/site-packages (from pydantic>=2->ydata-profiling) (0.6.0)\n",
            "Requirement already satisfied: pydantic-core==2.18.2 in /home/matheusvinicius/Documentos/Programação/IFPE/IA/connepi/heart_disease_project/venv/lib/python3.11/site-packages (from pydantic>=2->ydata-profiling) (2.18.2)\n",
            "Requirement already satisfied: typing-extensions>=4.6.1 in /home/matheusvinicius/Documentos/Programação/IFPE/IA/connepi/heart_disease_project/venv/lib/python3.11/site-packages (from pydantic>=2->ydata-profiling) (4.11.0)\n",
            "Requirement already satisfied: charset-normalizer<4,>=2 in /home/matheusvinicius/Documentos/Programação/IFPE/IA/connepi/heart_disease_project/venv/lib/python3.11/site-packages (from requests<3,>=2.24.0->ydata-profiling) (3.3.2)\n",
            "Requirement already satisfied: idna<4,>=2.5 in /home/matheusvinicius/Documentos/Programação/IFPE/IA/connepi/heart_disease_project/venv/lib/python3.11/site-packages (from requests<3,>=2.24.0->ydata-profiling) (3.7)\n",
            "Requirement already satisfied: urllib3<3,>=1.21.1 in /home/matheusvinicius/Documentos/Programação/IFPE/IA/connepi/heart_disease_project/venv/lib/python3.11/site-packages (from requests<3,>=2.24.0->ydata-profiling) (2.2.1)\n",
            "Requirement already satisfied: certifi>=2017.4.17 in /home/matheusvinicius/Documentos/Programação/IFPE/IA/connepi/heart_disease_project/venv/lib/python3.11/site-packages (from requests<3,>=2.24.0->ydata-profiling) (2024.2.2)\n",
            "Requirement already satisfied: patsy>=0.5.6 in /home/matheusvinicius/Documentos/Programação/IFPE/IA/connepi/heart_disease_project/venv/lib/python3.11/site-packages (from statsmodels<1,>=0.13.2->ydata-profiling) (0.5.6)\n",
            "Requirement already satisfied: attrs>=19.3.0 in /home/matheusvinicius/Documentos/Programação/IFPE/IA/connepi/heart_disease_project/venv/lib/python3.11/site-packages (from visions[type_image_path]<0.7.7,>=0.7.5->ydata-profiling) (23.2.0)\n",
            "Requirement already satisfied: networkx>=2.4 in /home/matheusvinicius/Documentos/Programação/IFPE/IA/connepi/heart_disease_project/venv/lib/python3.11/site-packages (from visions[type_image_path]<0.7.7,>=0.7.5->ydata-profiling) (3.3)\n",
            "Requirement already satisfied: tenacity>=6.2.0 in /home/matheusvinicius/Documentos/Programação/IFPE/IA/connepi/heart_disease_project/venv/lib/python3.11/site-packages (from plotly->catboost) (8.2.3)\n",
            "\n",
            "\u001b[1m[\u001b[0m\u001b[34;49mnotice\u001b[0m\u001b[1;39;49m]\u001b[0m\u001b[39;49m A new release of pip is available: \u001b[0m\u001b[31;49m23.2.1\u001b[0m\u001b[39;49m -> \u001b[0m\u001b[32;49m24.0\u001b[0m\n",
            "\u001b[1m[\u001b[0m\u001b[34;49mnotice\u001b[0m\u001b[1;39;49m]\u001b[0m\u001b[39;49m To update, run: \u001b[0m\u001b[32;49mpip install --upgrade pip\u001b[0m\n",
            "Note: you may need to restart the kernel to use updated packages.\n"
          ]
        }
      ],
      "source": [
        "%pip install catboost scikit-optimize ydata-profiling scikit-learn pandas numpy matplotlib yellowbrick"
      ]
    },
    {
      "cell_type": "code",
      "execution_count": 17,
      "metadata": {
        "id": "7QWsvn60HdFS"
      },
      "outputs": [],
      "source": [
        "# IMPORTANDO BIBLIOTECAS\n",
        "\n",
        "# MANEJAR DADOS\n",
        "import pandas as pd\n",
        "import numpy as np\n",
        "\n",
        "# 2. PLOTAR DADOS\n",
        "import matplotlib.pyplot as plt\n",
        "import seaborn as sns\n",
        "import plotly.express as px\n",
        "from yellowbrick.cluster import KElbowVisualizer\n",
        "from matplotlib.colors import ListedColormap\n",
        "\n",
        "\n",
        "# 3. PREPROCESSAMENTO DOS DADOS\n",
        "from sklearn.preprocessing import StandardScaler, MinMaxScaler, LabelEncoder\n",
        "from sklearn.impute import SimpleImputer, KNNImputer\n",
        "from ydata_profiling import ProfileReport\n",
        "# 4. Iterative imputer\n",
        "from sklearn.experimental import enable_iterative_imputer\n",
        "from sklearn.impute import IterativeImputer\n",
        "\n",
        "# 5. Bibliotecas para separamento de cojuntos de dados\n",
        "from sklearn.model_selection import train_test_split,cross_val_predict,GridSearchCV, cross_val_score,KFold,StratifiedKFold\n",
        "from imblearn.over_sampling import SMOTE\n",
        "\n",
        "# 6. Algoritmos de classificação\n",
        "from sklearn.linear_model import LogisticRegression\n",
        "from sklearn.neighbors import KNeighborsClassifier\n",
        "from sklearn.svm import SVC\n",
        "from sklearn.tree import DecisionTreeClassifier\n",
        "from sklearn.ensemble import RandomForestClassifier,AdaBoostClassifier,GradientBoostingClassifier,ExtraTreesClassifier,RandomForestRegressor\n",
        "from xgboost import XGBClassifier\n",
        "\n",
        "import pickle\n",
        "\n",
        "# 7. Métricas\n",
        "from sklearn.metrics import accuracy_score, confusion_matrix, classification_report,precision_score, recall_score, f1_score,ConfusionMatrixDisplay , mean_absolute_error, mean_squared_error\n",
        "from sklearn.metrics import confusion_matrix, roc_curve, auc\n",
        "\n",
        "\n",
        "from concurrent.futures import ThreadPoolExecutor  # Biblioteca para programação em multi-thread, para diminuir tempo de execução das métricas\n",
        "\n",
        "# 8. Ignore warnings\n",
        "import warnings\n",
        "warnings.filterwarnings(\"ignore\")"
      ]
    },
    {
      "cell_type": "markdown",
      "metadata": {
        "id": "C47aPdggjzN8"
      },
      "source": [
        "# EDA"
      ]
    },
    {
      "cell_type": "code",
      "execution_count": 18,
      "metadata": {
        "colab": {
          "base_uri": "https://localhost:8080/",
          "height": 206
        },
        "id": "UMf2VSE8HN1O",
        "outputId": "49fc8e49-ea26-4e58-f3f6-751b8b20a042"
      },
      "outputs": [
        {
          "data": {
            "text/html": [
              "<div>\n",
              "<style scoped>\n",
              "    .dataframe tbody tr th:only-of-type {\n",
              "        vertical-align: middle;\n",
              "    }\n",
              "\n",
              "    .dataframe tbody tr th {\n",
              "        vertical-align: top;\n",
              "    }\n",
              "\n",
              "    .dataframe thead th {\n",
              "        text-align: right;\n",
              "    }\n",
              "</style>\n",
              "<table border=\"1\" class=\"dataframe\">\n",
              "  <thead>\n",
              "    <tr style=\"text-align: right;\">\n",
              "      <th></th>\n",
              "      <th>age</th>\n",
              "      <th>sex</th>\n",
              "      <th>cp</th>\n",
              "      <th>trestbps</th>\n",
              "      <th>chol</th>\n",
              "      <th>fbs</th>\n",
              "      <th>restecg</th>\n",
              "      <th>thalach</th>\n",
              "      <th>exang</th>\n",
              "      <th>oldpeak</th>\n",
              "      <th>slope</th>\n",
              "      <th>ca</th>\n",
              "      <th>thal</th>\n",
              "      <th>target</th>\n",
              "    </tr>\n",
              "  </thead>\n",
              "  <tbody>\n",
              "    <tr>\n",
              "      <th>0</th>\n",
              "      <td>63</td>\n",
              "      <td>1</td>\n",
              "      <td>0</td>\n",
              "      <td>145</td>\n",
              "      <td>233</td>\n",
              "      <td>1</td>\n",
              "      <td>2</td>\n",
              "      <td>150</td>\n",
              "      <td>0</td>\n",
              "      <td>2.3</td>\n",
              "      <td>2</td>\n",
              "      <td>0</td>\n",
              "      <td>2</td>\n",
              "      <td>0</td>\n",
              "    </tr>\n",
              "    <tr>\n",
              "      <th>1</th>\n",
              "      <td>67</td>\n",
              "      <td>1</td>\n",
              "      <td>3</td>\n",
              "      <td>160</td>\n",
              "      <td>286</td>\n",
              "      <td>0</td>\n",
              "      <td>2</td>\n",
              "      <td>108</td>\n",
              "      <td>1</td>\n",
              "      <td>1.5</td>\n",
              "      <td>1</td>\n",
              "      <td>3</td>\n",
              "      <td>1</td>\n",
              "      <td>1</td>\n",
              "    </tr>\n",
              "    <tr>\n",
              "      <th>2</th>\n",
              "      <td>67</td>\n",
              "      <td>1</td>\n",
              "      <td>3</td>\n",
              "      <td>120</td>\n",
              "      <td>229</td>\n",
              "      <td>0</td>\n",
              "      <td>2</td>\n",
              "      <td>129</td>\n",
              "      <td>1</td>\n",
              "      <td>2.6</td>\n",
              "      <td>1</td>\n",
              "      <td>2</td>\n",
              "      <td>3</td>\n",
              "      <td>1</td>\n",
              "    </tr>\n",
              "    <tr>\n",
              "      <th>3</th>\n",
              "      <td>37</td>\n",
              "      <td>1</td>\n",
              "      <td>2</td>\n",
              "      <td>130</td>\n",
              "      <td>250</td>\n",
              "      <td>0</td>\n",
              "      <td>0</td>\n",
              "      <td>187</td>\n",
              "      <td>0</td>\n",
              "      <td>3.5</td>\n",
              "      <td>2</td>\n",
              "      <td>0</td>\n",
              "      <td>1</td>\n",
              "      <td>0</td>\n",
              "    </tr>\n",
              "    <tr>\n",
              "      <th>4</th>\n",
              "      <td>41</td>\n",
              "      <td>0</td>\n",
              "      <td>1</td>\n",
              "      <td>130</td>\n",
              "      <td>204</td>\n",
              "      <td>0</td>\n",
              "      <td>2</td>\n",
              "      <td>172</td>\n",
              "      <td>0</td>\n",
              "      <td>1.4</td>\n",
              "      <td>0</td>\n",
              "      <td>0</td>\n",
              "      <td>1</td>\n",
              "      <td>0</td>\n",
              "    </tr>\n",
              "  </tbody>\n",
              "</table>\n",
              "</div>"
            ],
            "text/plain": [
              "   age  sex  cp  trestbps  chol  fbs  restecg  thalach  exang  oldpeak  slope  \\\n",
              "0   63    1   0       145   233    1        2      150      0      2.3      2   \n",
              "1   67    1   3       160   286    0        2      108      1      1.5      1   \n",
              "2   67    1   3       120   229    0        2      129      1      2.6      1   \n",
              "3   37    1   2       130   250    0        0      187      0      3.5      2   \n",
              "4   41    0   1       130   204    0        2      172      0      1.4      0   \n",
              "\n",
              "   ca  thal  target  \n",
              "0   0     2       0  \n",
              "1   3     1       1  \n",
              "2   2     3       1  \n",
              "3   0     1       0  \n",
              "4   0     1       0  "
            ]
          },
          "execution_count": 18,
          "metadata": {},
          "output_type": "execute_result"
        }
      ],
      "source": [
        "df = pd.read_csv(\"./Heart_disease_cleveland_new.csv\")\n",
        "df.head()"
      ]
    },
    {
      "cell_type": "code",
      "execution_count": 19,
      "metadata": {},
      "outputs": [
        {
          "name": "stdout",
          "output_type": "stream",
          "text": [
            "<class 'pandas.core.frame.DataFrame'>\n",
            "RangeIndex: 303 entries, 0 to 302\n",
            "Data columns (total 14 columns):\n",
            " #   Column    Non-Null Count  Dtype  \n",
            "---  ------    --------------  -----  \n",
            " 0   age       303 non-null    int64  \n",
            " 1   sex       303 non-null    int64  \n",
            " 2   cp        303 non-null    int64  \n",
            " 3   trestbps  303 non-null    int64  \n",
            " 4   chol      303 non-null    int64  \n",
            " 5   fbs       303 non-null    int64  \n",
            " 6   restecg   303 non-null    int64  \n",
            " 7   thalach   303 non-null    int64  \n",
            " 8   exang     303 non-null    int64  \n",
            " 9   oldpeak   303 non-null    float64\n",
            " 10  slope     303 non-null    int64  \n",
            " 11  ca        303 non-null    int64  \n",
            " 12  thal      303 non-null    int64  \n",
            " 13  target    303 non-null    int64  \n",
            "dtypes: float64(1), int64(13)\n",
            "memory usage: 33.3 KB\n"
          ]
        }
      ],
      "source": [
        "df.info()"
      ]
    },
    {
      "cell_type": "code",
      "execution_count": 20,
      "metadata": {
        "id": "32zV5T15LxjH"
      },
      "outputs": [],
      "source": [
        "X= df.drop(['target'], axis=1)\n",
        "y = df['target']"
      ]
    },
    {
      "cell_type": "code",
      "execution_count": 35,
      "metadata": {},
      "outputs": [
        {
          "data": {
            "text/plain": [
              "0      0\n",
              "1      1\n",
              "2      1\n",
              "3      0\n",
              "4      0\n",
              "      ..\n",
              "298    1\n",
              "299    1\n",
              "300    1\n",
              "301    1\n",
              "302    0\n",
              "Name: target, Length: 303, dtype: int64"
            ]
          },
          "execution_count": 35,
          "metadata": {},
          "output_type": "execute_result"
        }
      ],
      "source": [
        "y"
      ]
    },
    {
      "cell_type": "code",
      "execution_count": 21,
      "metadata": {
        "id": "u1SKkbJwtX_c"
      },
      "outputs": [],
      "source": [
        "categorical_columns = ['thal', 'ca', 'slope', 'exang', 'restecg', 'cp', 'sex']"
      ]
    },
    {
      "cell_type": "code",
      "execution_count": 22,
      "metadata": {
        "id": "u3L8t8BktTu6"
      },
      "outputs": [],
      "source": [
        "X_encoded = X.copy()\n",
        "label_encoders = {}\n",
        "for col in categorical_columns:\n",
        "    label_encoders[col] = LabelEncoder()\n",
        "    X_encoded[col] = label_encoders[col].fit_transform(X[col])\n",
        "\n"
      ]
    },
    {
      "cell_type": "code",
      "execution_count": 31,
      "metadata": {
        "id": "sFPWy27lMCaK"
      },
      "outputs": [],
      "source": [
        "from sklearn.linear_model import LogisticRegression\n",
        "from sklearn.neighbors import KNeighborsClassifier\n",
        "from sklearn.svm import SVC\n",
        "from sklearn.tree import DecisionTreeClassifier, plot_tree\n",
        "from sklearn.ensemble import RandomForestClassifier, AdaBoostClassifier, GradientBoostingClassifier\n",
        "from xgboost import XGBClassifier\n",
        "from catboost import CatBoostClassifier\n",
        "from sklearn.naive_bayes import GaussianNB\n",
        "\n",
        "#importing pipeline\n",
        "from sklearn.pipeline import Pipeline"
      ]
    },
    {
      "cell_type": "code",
      "execution_count": 24,
      "metadata": {
        "id": "TpyycjD3L1QY"
      },
      "outputs": [],
      "source": [
        "from sklearn.preprocessing import MinMaxScaler  # 303\n",
        "X_train, X_test, y_train, y_test  = train_test_split(X_encoded, y, test_size=0.1, random_state=42)\n",
        "smote = SMOTE()\n",
        "X_smote, y_smote = smote.fit_resample(X_train, y_train)\n",
        "\n"
      ]
    },
    {
      "cell_type": "code",
      "execution_count": 25,
      "metadata": {
        "id": "Q4j1D5O7TrTy"
      },
      "outputs": [],
      "source": [
        "\n",
        "def plot_confusion_matrix(model,cv):\n",
        "    y_pred = cross_val_predict(model, X_encoded, y, cv=cv)\n",
        "    cm = confusion_matrix(y, y_pred)\n",
        "\n",
        "    # Extrair os valores TP, TN, FP, FN da matriz de confusão\n",
        "    TN, FP, FN, TP = cm.ravel()\n",
        "\n",
        "    # Calcular a acurácia\n",
        "    accuracy = (TP + TN) / (TP + TN + FP + FN)\n",
        "\n",
        "    plt.figure(figsize=(6, 4))\n",
        "    sns.heatmap(cm, annot=True, cmap='Blues', fmt='d', xticklabels=['Class 0', 'Class 1'], yticklabels=['Class 0', 'Class 1'])\n",
        "    plt.title(f'Confusion Matrix (Accuracy: {accuracy:.2f})')\n",
        "    plt.xlabel('Predicted Label')\n",
        "    plt.ylabel('True Label')\n",
        "    plt.show()\n"
      ]
    },
    {
      "cell_type": "code",
      "execution_count": 26,
      "metadata": {
        "id": "zV9AWwXajdLQ"
      },
      "outputs": [],
      "source": [
        "import matplotlib.pyplot as plt\n",
        "import numpy as np\n",
        "from sklearn.model_selection import cross_val_score\n",
        "from sklearn.metrics import precision_score, recall_score, f1_score, accuracy_score\n",
        "\n",
        "def kfold_evaluate(model, k):\n",
        "    resultados = {\n",
        "        \"Acurácia\": None,\n",
        "        \"Precisão\": None,\n",
        "        \"F1-score\": None,\n",
        "        \"Recall\": None\n",
        "    }\n",
        "\n",
        "\n",
        "    def plot_results():\n",
        "        # Criando o gráfico de barras\n",
        "        fig, ax = plt.subplots()\n",
        "        barras = ax.bar(resultados.keys(), resultados.values(), color=['blue', 'green', 'orange', 'red'])\n",
        "\n",
        "        # Adicionando os valores acima das barras\n",
        "        for barra in barras:\n",
        "            altura = barra.get_height()\n",
        "            ax.annotate(f'{round(altura*100)}%', xy=(barra.get_x() + barra.get_width() / 2, altura),\n",
        "                        xytext=(0, 3),  # 3 pixels de deslocamento vertical\n",
        "                        textcoords=\"offset points\",\n",
        "                        ha='center', va='bottom')\n",
        "\n",
        "        # Adicionando título e rótulos aos eixos\n",
        "        ax.set_ylabel('Porcentagem')\n",
        "        ax.set_title('Resultados da validação cruzada')\n",
        "        plt.ylim(0, max(resultados.values()) * 1.2)  # Limitando o eixo y\n",
        "        plt.xticks(rotation=45)  # Rotacionando os rótulos do eixo x para facilitar a leitura\n",
        "\n",
        "        # Exibindo o gráfico\n",
        "        plt.tight_layout()\n",
        "        plt.show()\n",
        "\n",
        "    # Calculando as métricas\n",
        "    resultados[\"Precisão\"] = np.mean(cross_val_score(model, X_smote, y_smote, cv=k, scoring='precision'))\n",
        "    resultados[\"Acurácia\"] = np.mean(balanced_accuracy_score(model, X_smote, y_smote, cv=k, scoring='accuracy'))\n",
        "    resultados[\"Recall\"] = np.mean(cross_val_score(model, X_smote, y_smote, cv=k, scoring='recall'))\n",
        "    resultados[\"F1-score\"] = np.mean(cross_val_score(model, X_smote, y_smote, cv=k, scoring='f1'))\n",
        "\n",
        "    # Plotando os resultados\n",
        "    plot_results()\n"
      ]
    },
    {
      "cell_type": "code",
      "execution_count": 36,
      "metadata": {
        "id": "4yS46z04kxMx"
      },
      "outputs": [],
      "source": [
        "def train_test_evaluate(model, params, test_size):\n",
        "    X_train, X_test, y_train, y_test = train_test_split(X_encoded.values, y, test_size=test_size, random_state=42)\n",
        "    smote = SMOTE(random_state=42)\n",
        "    X_train_resampled, y_train_resampled = smote.fit_resample(X_train, y_train)\n",
        "    X_train, y_train = X_train_resampled, y_train_resampled\n",
        "    model.set_params(**params)\n",
        "    model.fit(X_train, y_train)\n",
        "    y_pred = model.predict(X_test)\n",
        "    # Avaliar as métricas\n",
        "    accuracy = (accuracy_score(y_test, y_pred))\n",
        "    precision = precision_score(y_test, y_pred)\n",
        "    f1 = f1_score(y_test, y_pred)\n",
        "    recall = recall_score(y_test, y_pred)\n",
        "\n",
        "    labels = ['Acurácia', 'Precisão', 'F1-Score', 'Recall']\n",
        "    valores = [accuracy, precision,f1, recall]\n",
        "    x = np.arange(len(labels))  # Localização dos rótulos no eixo x\n",
        "\n",
        "    # Configurando o gráfico de barras\n",
        "    plt.bar(x, valores, color=['blue', 'green', 'red', 'yellow'])\n",
        "    plt.xlabel('Métricas')\n",
        "    plt.ylabel('Valores')\n",
        "    plt.xticks(x, labels)\n",
        "\n",
        "    # Adicionando os valores exatos como labels nas barras\n",
        "    for i in range(len(x)):\n",
        "        plt.text(x[i], valores[i], f'{valores[i]:.0%}', ha='center', va='bottom')\n",
        "    plt.xlabel('Métricas')\n",
        "    plt.ylabel('Valores')\n",
        "    plt.xticks(x, labels)\n",
        "    plt.title('Acurácia e Precisão do Modelo')\n",
        "    plt.show()\n",
        "    # print(f\"Accuracy: {accuracy}\\nPrecision: {precision}\\nRecall: {recall}\\nF1-score: {f1}\\n\")\n"
      ]
    },
    {
      "cell_type": "code",
      "execution_count": 28,
      "metadata": {
        "id": "RtaL189bpkDA"
      },
      "outputs": [],
      "source": [
        "smote = SMOTE()\n",
        "X_smote, y_smote = smote.fit_resample(X_encoded, y,)"
      ]
    },
    {
      "cell_type": "markdown",
      "metadata": {
        "id": "U266J5ZIeiJn"
      },
      "source": [
        "# Ensemble Learning"
      ]
    },
    {
      "cell_type": "code",
      "execution_count": 37,
      "metadata": {
        "colab": {
          "base_uri": "https://localhost:8080/",
          "height": 524
        },
        "id": "ulBkzd5gTxW7",
        "outputId": "3f7e4fa7-2981-449b-ba3c-ff37b0d36e85"
      },
      "outputs": [
        {
          "name": "stderr",
          "output_type": "stream",
          "text": [
            "findfont: Generic family 'sans-serif' not found because none of the following families were found: Arial, Liberation Sans, Bitstream Vera Sans, sans-serif\n",
            "findfont: Generic family 'sans-serif' not found because none of the following families were found: Arial, Liberation Sans, Bitstream Vera Sans, sans-serif\n",
            "findfont: Generic family 'sans-serif' not found because none of the following families were found: Arial, Liberation Sans, Bitstream Vera Sans, sans-serif\n",
            "findfont: Generic family 'sans-serif' not found because none of the following families were found: Arial, Liberation Sans, Bitstream Vera Sans, sans-serif\n",
            "findfont: Generic family 'sans-serif' not found because none of the following families were found: Arial, Liberation Sans, Bitstream Vera Sans, sans-serif\n",
            "findfont: Generic family 'sans-serif' not found because none of the following families were found: Arial, Liberation Sans, Bitstream Vera Sans, sans-serif\n",
            "findfont: Generic family 'sans-serif' not found because none of the following families were found: Arial, Liberation Sans, Bitstream Vera Sans, sans-serif\n",
            "findfont: Generic family 'sans-serif' not found because none of the following families were found: Arial, Liberation Sans, Bitstream Vera Sans, sans-serif\n",
            "findfont: Generic family 'sans-serif' not found because none of the following families were found: Arial, Liberation Sans, Bitstream Vera Sans, sans-serif\n",
            "findfont: Generic family 'sans-serif' not found because none of the following families were found: Arial, Liberation Sans, Bitstream Vera Sans, sans-serif\n",
            "findfont: Generic family 'sans-serif' not found because none of the following families were found: Arial, Liberation Sans, Bitstream Vera Sans, sans-serif\n",
            "findfont: Generic family 'sans-serif' not found because none of the following families were found: Arial, Liberation Sans, Bitstream Vera Sans, sans-serif\n",
            "findfont: Generic family 'sans-serif' not found because none of the following families were found: Arial, Liberation Sans, Bitstream Vera Sans, sans-serif\n",
            "findfont: Generic family 'sans-serif' not found because none of the following families were found: Arial, Liberation Sans, Bitstream Vera Sans, sans-serif\n",
            "findfont: Generic family 'sans-serif' not found because none of the following families were found: Arial, Liberation Sans, Bitstream Vera Sans, sans-serif\n",
            "findfont: Generic family 'sans-serif' not found because none of the following families were found: Arial, Liberation Sans, Bitstream Vera Sans, sans-serif\n",
            "findfont: Generic family 'sans-serif' not found because none of the following families were found: Arial, Liberation Sans, Bitstream Vera Sans, sans-serif\n",
            "findfont: Generic family 'sans-serif' not found because none of the following families were found: Arial, Liberation Sans, Bitstream Vera Sans, sans-serif\n",
            "findfont: Generic family 'sans-serif' not found because none of the following families were found: Arial, Liberation Sans, Bitstream Vera Sans, sans-serif\n",
            "findfont: Generic family 'sans-serif' not found because none of the following families were found: Arial, Liberation Sans, Bitstream Vera Sans, sans-serif\n",
            "findfont: Generic family 'sans-serif' not found because none of the following families were found: Arial, Liberation Sans, Bitstream Vera Sans, sans-serif\n",
            "findfont: Generic family 'sans-serif' not found because none of the following families were found: Arial, Liberation Sans, Bitstream Vera Sans, sans-serif\n",
            "findfont: Generic family 'sans-serif' not found because none of the following families were found: Arial, Liberation Sans, Bitstream Vera Sans, sans-serif\n",
            "findfont: Generic family 'sans-serif' not found because none of the following families were found: Arial, Liberation Sans, Bitstream Vera Sans, sans-serif\n",
            "findfont: Generic family 'sans-serif' not found because none of the following families were found: Arial, Liberation Sans, Bitstream Vera Sans, sans-serif\n",
            "findfont: Generic family 'sans-serif' not found because none of the following families were found: Arial, Liberation Sans, Bitstream Vera Sans, sans-serif\n",
            "findfont: Generic family 'sans-serif' not found because none of the following families were found: Arial, Liberation Sans, Bitstream Vera Sans, sans-serif\n",
            "findfont: Generic family 'sans-serif' not found because none of the following families were found: Arial, Liberation Sans, Bitstream Vera Sans, sans-serif\n",
            "findfont: Generic family 'sans-serif' not found because none of the following families were found: Arial, Liberation Sans, Bitstream Vera Sans, sans-serif\n",
            "findfont: Generic family 'sans-serif' not found because none of the following families were found: Arial, Liberation Sans, Bitstream Vera Sans, sans-serif\n",
            "findfont: Generic family 'sans-serif' not found because none of the following families were found: Arial, Liberation Sans, Bitstream Vera Sans, sans-serif\n",
            "findfont: Generic family 'sans-serif' not found because none of the following families were found: Arial, Liberation Sans, Bitstream Vera Sans, sans-serif\n",
            "findfont: Generic family 'sans-serif' not found because none of the following families were found: Arial, Liberation Sans, Bitstream Vera Sans, sans-serif\n",
            "findfont: Generic family 'sans-serif' not found because none of the following families were found: Arial, Liberation Sans, Bitstream Vera Sans, sans-serif\n",
            "findfont: Generic family 'sans-serif' not found because none of the following families were found: Arial, Liberation Sans, Bitstream Vera Sans, sans-serif\n",
            "findfont: Generic family 'sans-serif' not found because none of the following families were found: Arial, Liberation Sans, Bitstream Vera Sans, sans-serif\n",
            "findfont: Generic family 'sans-serif' not found because none of the following families were found: Arial, Liberation Sans, Bitstream Vera Sans, sans-serif\n",
            "findfont: Generic family 'sans-serif' not found because none of the following families were found: Arial, Liberation Sans, Bitstream Vera Sans, sans-serif\n",
            "findfont: Generic family 'sans-serif' not found because none of the following families were found: Arial, Liberation Sans, Bitstream Vera Sans, sans-serif\n",
            "findfont: Generic family 'sans-serif' not found because none of the following families were found: Arial, Liberation Sans, Bitstream Vera Sans, sans-serif\n",
            "findfont: Generic family 'sans-serif' not found because none of the following families were found: Arial, Liberation Sans, Bitstream Vera Sans, sans-serif\n",
            "findfont: Generic family 'sans-serif' not found because none of the following families were found: Arial, Liberation Sans, Bitstream Vera Sans, sans-serif\n",
            "findfont: Generic family 'sans-serif' not found because none of the following families were found: Arial, Liberation Sans, Bitstream Vera Sans, sans-serif\n",
            "findfont: Generic family 'sans-serif' not found because none of the following families were found: Arial, Liberation Sans, Bitstream Vera Sans, sans-serif\n",
            "findfont: Generic family 'sans-serif' not found because none of the following families were found: Arial, Liberation Sans, Bitstream Vera Sans, sans-serif\n",
            "findfont: Generic family 'sans-serif' not found because none of the following families were found: Arial, Liberation Sans, Bitstream Vera Sans, sans-serif\n",
            "findfont: Generic family 'sans-serif' not found because none of the following families were found: Arial, Liberation Sans, Bitstream Vera Sans, sans-serif\n",
            "findfont: Generic family 'sans-serif' not found because none of the following families were found: Arial, Liberation Sans, Bitstream Vera Sans, sans-serif\n",
            "findfont: Generic family 'sans-serif' not found because none of the following families were found: Arial, Liberation Sans, Bitstream Vera Sans, sans-serif\n",
            "findfont: Generic family 'sans-serif' not found because none of the following families were found: Arial, Liberation Sans, Bitstream Vera Sans, sans-serif\n",
            "findfont: Generic family 'sans-serif' not found because none of the following families were found: Arial, Liberation Sans, Bitstream Vera Sans, sans-serif\n",
            "findfont: Generic family 'sans-serif' not found because none of the following families were found: Arial, Liberation Sans, Bitstream Vera Sans, sans-serif\n",
            "findfont: Generic family 'sans-serif' not found because none of the following families were found: Arial, Liberation Sans, Bitstream Vera Sans, sans-serif\n",
            "findfont: Generic family 'sans-serif' not found because none of the following families were found: Arial, Liberation Sans, Bitstream Vera Sans, sans-serif\n",
            "findfont: Generic family 'sans-serif' not found because none of the following families were found: Arial, Liberation Sans, Bitstream Vera Sans, sans-serif\n"
          ]
        },
        {
          "data": {
            "image/png": "[encoded data removed]",
            "text/plain": [
              "<Figure size 800x550 with 1 Axes>"
            ]
          },
          "metadata": {},
          "output_type": "display_data"
        }
      ],
      "source": [
        "from sklearn.model_selection import train_test_split, StratifiedKFold\n",
        "from sklearn.ensemble import RandomForestClassifier,VotingClassifier\n",
        "from catboost import CatBoostClassifier\n",
        "from sklearn.metrics import accuracy_score\n",
        "import numpy as np\n",
        "\n",
        "params_rf = {\"criterion\": \"gini\", \"max_depth\": 8, \"max_features\": \"auto\", \"n_estimators\": 200}\n",
        "params_rf = {}\n",
        "params_catboost = {'n_estimators': 300, 'learning_rate': 0.001, 'random_state': 42, 'verbose': 0, 'depth': 4, 'loss_function': 'Logloss', 'class_weights': [1, 1.15]}\n",
        "params_ab = {'n_estimators': 250,  'learning_rate': 0.6, 'random_state':42}\n",
        "params_nb = {'var_smoothing': 1e-09}\n",
        "params_xgb={'reg_lambda': 2, 'reg_alpha': 0.1, 'n_estimators': 300, 'n_estimator': 200, 'min_child_weight': 1, 'max_depth': 7, 'learning_rate': 0.01, 'gamma': 0, 'eval_metric': 'logloss', 'colsample_bytree': 0.6}\n",
        "# params_xgb = {'reg_lambda': 2, 'reg_alpha': 0, 'n_estimators': 100, 'min_child_weight': 1, 'max_depth': 5, 'learning_rate': 0.1, 'gamma': 0.1, 'eval_metric': 'logloss', 'colsample_bytree': 0.8}\n",
        "logistic_rg_params = {'solver': 'liblinear', 'penalty': 'l2', 'max_iter': 100, 'C': 10}\n",
        "params_gb = {'n_estimators': 200, 'min_samples_split': 5, 'max_depth': 5, 'learning_rate': 0.2}\n",
        "\n",
        "kf = StratifiedKFold(n_splits=10, shuffle=True, random_state=42)\n",
        "# Random Forest, CatBoost, XGBoost, Nayes BAyes, AdaBoost, Logistic Regression, Gradient Boost\n",
        "rf_model = RandomForestClassifier(**params_rf)\n",
        "catboost_model = CatBoostClassifier(**params_catboost)\n",
        "xgb_model = XGBClassifier(**params_xgb)\n",
        "nb_model = GaussianNB(**params_nb)\n",
        "ab_model = AdaBoostClassifier(**params_ab)\n",
        "lg_model = LogisticRegression(**logistic_rg_params)\n",
        "gb_model = GradientBoostingClassifier(**params_gb)\n",
        "\n",
        "# ensemble_weights =  [1, 2, 1, 1, 2, 1]\n",
        "# ensemble_weights = [1, 4, 1, 1, 2, 1]\n",
        "ensemble_weights = [1, 7, 1, 1, 2, 1]\n",
        "TEST_SIZE = 0.1\n",
        "ensemble = VotingClassifier(estimators=[\n",
        "    ('lg', lg_model),\n",
        "    ('xgb', xgb_model),\n",
        "    ('rf', rf_model),\n",
        "    ('catboost', catboost_model),\n",
        "    ('ab', ab_model),\n",
        "    ('nb', nb_model)\n",
        "    ], voting='hard', weights=ensemble_weights)\n",
        "# kfold_evaluate(ensemble, kf)\n",
        "train_test_evaluate(ensemble, {}, TEST_SIZE)\n",
        "#    X_train, X_test, y_train, y_test = train_test_split(X_encoded, y, test_size=test_size, random_state=42)\n",
        "#     smote = SMOTE(random_state=42)\n",
        "#     X_train_resampled, y_train_resampled = smote.fit_resample(X_train, y_train)\n",
        "#     X_train, y_train = X_train_resampled, y_train_resampled\n",
        "#     model.set_params(**params)\n",
        "#     model.fit(X_train, y_train)\n"
      ]
    },
    {
      "cell_type": "code",
      "execution_count": 38,
      "metadata": {},
      "outputs": [],
      "source": [
        "\n",
        "with open('trained_model-0.1.0.pkl', 'wb') as f:\n",
        "    pickle.dump(ensemble, f)\n"
      ]
    }
  ],
  "metadata": {
    "colab": {
      "authorship_tag": "ABX9TyMRV4CRIV7FLoyACdvcVoAC",
      "collapsed_sections": [
        "B5t9tcCcLOV2",
        "5sHB9ENFhHOf",
        "_urVZGo5jv5G"
      ],
      "mount_file_id": "1ryZCNAhkz2NpR1E3Jve-SmKESHeMPYdv",
      "provenance": []
    },
    "kernelspec": {
      "display_name": "Python 3",
      "name": "python3"
    },
    "language_info": {
      "codemirror_mode": {
        "name": "ipython",
        "version": 3
      },
      "file_extension": ".py",
      "mimetype": "text/x-python",
      "name": "python",
      "nbconvert_exporter": "python",
      "pygments_lexer": "ipython3",
      "version": "3.11.7"
    }
  },
  "nbformat": 4,
  "nbformat_minor": 0
}
